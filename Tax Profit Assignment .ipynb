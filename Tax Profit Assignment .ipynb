{
 "cells": [
  {
   "cell_type": "code",
   "execution_count": 6,
   "id": "2860ab3e",
   "metadata": {},
   "outputs": [
    {
     "name": "stdout",
     "output_type": "stream",
     "text": [
      "11629.54\n",
      "[1765.869, 1337.9730000000002, -2595.4530000000004, -2040.0169999999996, -419.944, 5085.668, 5747.385, 2761.479, 2329.8729999999996, -1567.055000000001, 461.71999999999895, 8140.678]\n",
      "[0.12116163241389578, 0.1758995643176984, -0.3013969837692086, -0.2223352416949215, -0.05211096151340486, 0.6274388558795081, 0.49993432658216397, 0.2827619856052934, 0.2260844884001661, -0.10897492065346503, 0.04309513653668985, 0.5274680403019406]\n",
      "[]\n",
      "[]\n",
      "8140.678\n",
      "-2595.4530000000004\n"
     ]
    }
   ],
   "source": [
    "#Data \n",
    "revenue = [14574.49, 7606.46, 8611.41, 9175.41, 8058.65, 8105.44, 11496.28, 9766.09, 10305.32, 14379.96, 10713.97, 15433.50]\n",
    "expenses = [12051.82, 5695.07, 12319.20, 12089.72, 8658.57, 840.20, 3285.73, 5821.12, 6976.93, 16618.61, 10054.37, 3803.96]\n",
    "\n",
    "profitLst = []\n",
    "profitAfterTax = []\n",
    "profitMargin = []\n",
    "goodMonths = []\n",
    "badMonths = []\n",
    "\n",
    "for i in range(0, len(revenue)):\n",
    "    profit = revenue[i] - expenses[i]\n",
    "    profitLst.append(profit)\n",
    "    profitAfterTax.append(profit * .7)\n",
    "    profitMargin.append((profit * .7)/ revenue[i])\n",
    "    \n",
    "\n",
    "\n",
    "bestMonth = max(profitAfterTax)\n",
    "worstMonth = min(profitAfterTax)\n",
    "\n",
    "print(profit)\n",
    "print(profitAfterTax)\n",
    "print(profitMargin)\n",
    "print(goodMonths)\n",
    "print(badMonths)\n",
    "print(bestMonth)\n",
    "print(worstMonth)\n"
   ]
  },
  {
   "cell_type": "code",
   "execution_count": null,
   "id": "f879ad60",
   "metadata": {},
   "outputs": [],
   "source": []
  }
 ],
 "metadata": {
  "kernelspec": {
   "display_name": "Python 3 (ipykernel)",
   "language": "python",
   "name": "python3"
  },
  "language_info": {
   "codemirror_mode": {
    "name": "ipython",
    "version": 3
   },
   "file_extension": ".py",
   "mimetype": "text/x-python",
   "name": "python",
   "nbconvert_exporter": "python",
   "pygments_lexer": "ipython3",
   "version": "3.9.7"
  }
 },
 "nbformat": 4,
 "nbformat_minor": 5
}
