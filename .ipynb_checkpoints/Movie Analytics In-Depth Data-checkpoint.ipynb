{
 "cells": [
  {
   "cell_type": "code",
   "execution_count": 7,
   "id": "ed7f7231",
   "metadata": {},
   "outputs": [],
   "source": [
    "import pandas as pd\n",
    "import matplotlib.pyplot as plt\n",
    "import seaborn as sns\n",
    "import warnings\n",
    "warnings.filterwarnings('ignore')\n",
    "%matplotlib inline"
   ]
  },
  {
   "cell_type": "code",
   "execution_count": null,
   "id": "92ec1558",
   "metadata": {},
   "outputs": [],
   "source": [
    "os.getcwd()"
   ]
  },
  {
   "cell_type": "code",
   "execution_count": null,
   "id": "c738d48d",
   "metadata": {},
   "outputs": [],
   "source": [
    "movies = pd.read_csv(\"P4-Section6-Homework-Dataset.csv\", encoding='latin1')"
   ]
  },
  {
   "cell_type": "code",
   "execution_count": null,
   "id": "644260bb",
   "metadata": {},
   "outputs": [],
   "source": [
    "movies.head()"
   ]
  },
  {
   "cell_type": "code",
   "execution_count": null,
   "id": "0d262d26",
   "metadata": {},
   "outputs": [],
   "source": [
    "movies.columns"
   ]
  },
  {
   "cell_type": "code",
   "execution_count": null,
   "id": "9b93dd44",
   "metadata": {},
   "outputs": [],
   "source": [
    "movies.describe()"
   ]
  },
  {
   "cell_type": "code",
   "execution_count": null,
   "id": "70a34818",
   "metadata": {},
   "outputs": [],
   "source": [
    "movies"
   ]
  },
  {
   "cell_type": "code",
   "execution_count": null,
   "id": "3d04b62b",
   "metadata": {},
   "outputs": [],
   "source": [
    "movies.Studio"
   ]
  },
  {
   "cell_type": "code",
   "execution_count": null,
   "id": "5b43cc7e",
   "metadata": {},
   "outputs": [],
   "source": [
    "movies.info()"
   ]
  },
  {
   "cell_type": "code",
   "execution_count": null,
   "id": "0c80d27b",
   "metadata": {},
   "outputs": [],
   "source": [
    "movies.Studio = movies.Studio.astype('category')\n",
    "movies.['Release Date'] = movies.Studio.astype('category')\n",
    "movies.['Budget ($mill)'] = movies.Studio.astype('category')"
   ]
  },
  {
   "cell_type": "code",
   "execution_count": null,
   "id": "18974390",
   "metadata": {},
   "outputs": [],
   "source": [
    "movies.Studio.cat.categories"
   ]
  },
  {
   "cell_type": "code",
   "execution_count": null,
   "id": "cfb69dd8",
   "metadata": {},
   "outputs": [],
   "source": [
    "#g = sns.FacetGrid(movies, row='Studio', col='Release Date', hue='Studio')\n",
    "#g = g.map(plt.scatter, 'Budget ($mill)')\n"
   ]
  },
  {
   "cell_type": "code",
   "execution_count": null,
   "id": "54702ac8",
   "metadata": {},
   "outputs": [],
   "source": []
  }
 ],
 "metadata": {
  "kernelspec": {
   "display_name": "Python 3 (ipykernel)",
   "language": "python",
   "name": "python3"
  },
  "language_info": {
   "codemirror_mode": {
    "name": "ipython",
    "version": 3
   },
   "file_extension": ".py",
   "mimetype": "text/x-python",
   "name": "python",
   "nbconvert_exporter": "python",
   "pygments_lexer": "ipython3",
   "version": "3.9.7"
  }
 },
 "nbformat": 4,
 "nbformat_minor": 5
}
