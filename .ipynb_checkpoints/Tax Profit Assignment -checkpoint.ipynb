{
 "cells": [
  {
   "cell_type": "code",
   "execution_count": null,
   "id": "3f8481b4",
   "metadata": {},
   "outputs": [],
   "source": [
    "#Data \n",
    "revenue = [14574.49, 7606.46, 8611.41, 9175.41, 8058.65, 8105.44, 11496.28, 9766.09, 10305.32, 14379.96, 10713.97, 15433.50]\n",
    "expenses = [12051.82, 5695.07, 12319.20, 12089.72, 8658.57, 840.20, 3285.73, 5821.12, 6976.93, 16618.61, 10054.37, 3803.96]\n",
    "\n",
    "profit = []\n",
    "profitAfterTax = []\n",
    "profitMargin = []\n",
    "goodMonths = []\n",
    "badMonths = []\n",
    "\n",
    "for i in len(revenue):\n",
    "    profit = revenue[i] - expenses[i]\n",
    "    profit.append(profit)\n",
    "    profitAfterTax.append(profit * .7)\n",
    "    profitMargin.append(profit * .7)/ revenue[i])\n",
    "    \n",
    "\n",
    "\n",
    "bestMonth = max(profitAfterTax)\n",
    "worstMonth = min(profitAfterTax)\n",
    "\n",
    "print(profit)\n",
    "print(profitAfterTax)\n",
    "print(profitMargin)\n",
    "print(goodMonths)\n",
    "print(badMonths)\n",
    "print(bestMonth)\n",
    "print(worstMonth)\n"
   ]
  }
 ],
 "metadata": {
  "kernelspec": {
   "display_name": "Python 3 (ipykernel)",
   "language": "python",
   "name": "python3"
  },
  "language_info": {
   "codemirror_mode": {
    "name": "ipython",
    "version": 3
   },
   "file_extension": ".py",
   "mimetype": "text/x-python",
   "name": "python",
   "nbconvert_exporter": "python",
   "pygments_lexer": "ipython3",
   "version": "3.9.7"
  }
 },
 "nbformat": 4,
 "nbformat_minor": 5
}
